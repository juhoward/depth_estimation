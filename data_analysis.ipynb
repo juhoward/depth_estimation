{
 "cells": [
  {
   "cell_type": "code",
   "execution_count": 1,
   "metadata": {},
   "outputs": [
    {
     "name": "stdout",
     "output_type": "stream",
     "text": [
      "/home/digitalopt/proj/depth_estimation\n"
     ]
    }
   ],
   "source": [
    "import matplotlib.pyplot as plt\n",
    "import csv\n",
    "import os\n",
    "from math import sqrt\n",
    "import numpy as np\n",
    "import glob\n",
    "\n",
    "print(os.getcwd())\n",
    "# old logging method\n",
    "\n",
    "files = ['gt_gt.csv', 'camera_l_neural_depth.csv', 'camera_r_neural_depth.csv', 'camera_l_triangle.csv', 'camera_r_triangle.csv',\n",
    "         'camera_l_triangle_f_iris.csv', 'camera_r_triangle_f_iris.csv']\n",
    "\n",
    "def rmse(y, yhat):\n",
    "    errors = list(map(lambda x: (x[0] - x[1])**2, zip(y, yhat)))\n",
    "    return sqrt((sum(errors)/ len(errors)))\n",
    "\n",
    "def depth_2_dist(y, yhat):\n",
    "    '''\n",
    "    given dataset of relative inverse depths and gt_depths (cm),\n",
    "    finds a linear relationship in form pred = mx + b\n",
    "    returns absolute depth (cm).\n",
    "    '''\n",
    "    # invert gt to get inverse depth\n",
    "    gt = list(map(lambda x: 1/x, y))\n",
    "    # align prediction based on least squares estimates\n",
    "    A = np.vstack([gt, np.ones(len(gt))]).T\n",
    "    m, b = np.linalg.lstsq(A, yhat, rcond=None)[0]\n",
    "    # transform relative inverse depth to absolute depth\n",
    "    return [i * m + b for i in yhat]\n",
    "\n",
    "reader = csv.reader\n",
    "data = []\n",
    "for n in files:\n",
    "    p = './results/iris/' + n\n",
    "    with open(p) as f:\n",
    "        reader = csv.reader(f)\n",
    "        for idx, row in enumerate(reader):\n",
    "            if idx == 1:\n",
    "                row = list(map(lambda x: round(float(x), 2), row))\n",
    "                data.append(row)\n",
    "xvals = [i for i in range(len(data[0]))]\n",
    "\n",
    "colors = [i for i in range(len(data))]\n",
    "gt = data[0]\n",
    "for idx, dset in enumerate(data[1:]):\n",
    "    # print(len(gt), len(dset))\n",
    "    if idx < 2:\n",
    "        continue\n",
    "        # dset = [1000 / x for x in dset]\n",
    "    #     dset = depth_2_dist(gt, dset)\n",
    "    plt.scatter(xvals, gt, c='orange')\n",
    "    plt.scatter(xvals, dset, c='blue')\n",
    "    if max(dset) > max(gt):\n",
    "        plt.yticks(np.arange(min(dset), max(dset) + 1, 12))\n",
    "    else:\n",
    "        plt.yticks(np.arange(min(gt), max(gt) + 1, 12))\n",
    "    plt.title(files[idx+1])\n",
    "    plt.xlabel('Frame (time)')\n",
    "    plt.ylabel('Distance (in.)')\n",
    "    # plt.legend((gt, dat), ('gt', files[idx+1]))\n",
    "\n",
    "    plt.savefig('./results/' + files[idx+1].split('.')[0] + '.png')\n",
    "    plt.show()\n"
   ]
  },
  {
   "cell_type": "code",
   "execution_count": null,
   "metadata": {},
   "outputs": [],
   "source": []
  },
  {
   "cell_type": "code",
   "execution_count": 59,
   "metadata": {},
   "outputs": [],
   "source": [
    "from statistics import stdev\n",
    "\n",
    "bins = {i:list() for i in range(11)}\n",
    "\n",
    "for val in gt:\n",
    "    if val > 0 and val < 12.0:\n",
    "        bins[0].append(val)\n",
    "    if val >= 12.0 and val < 24.0:\n",
    "        bins[1].append(val)\n",
    "    if val >= 24.0 and val < 36.0:\n",
    "        bins[2].append(val)\n",
    "    if val >= 36.0 and val < 48.0:\n",
    "        bins[3].append(val)\n",
    "    if val >= 48.0 and val < 60.0:\n",
    "        bins[4].append(val)\n",
    "    if val >= 60.0 and val < 72.0:\n",
    "        bins[5].append(val)\n",
    "    if val >= 72.0 and val < 84.0:\n",
    "        bins[6].append(val)\n",
    "    if val >= 84.0 and val < 96.0:\n",
    "        bins[7].append(val)\n",
    "    if val >= 96.0 and val < 108.0:\n",
    "        bins[8].append(val)\n",
    "    if val >= 108.0 and val < 120.0:\n",
    "        bins[9].append(val)\n",
    "    if val >= 129.0 and val < 136.0:\n",
    "        bins[10].append(val)"
   ]
  },
  {
   "cell_type": "code",
   "execution_count": 60,
   "metadata": {},
   "outputs": [
    {
     "name": "stdout",
     "output_type": "stream",
     "text": [
      "\n",
      "distance: 1 ft length: 212 stddev: 2.0692851378791293\n",
      "\n",
      "distance: 2 ft length: 233 stddev: 3.641202680866492\n",
      "\n",
      "distance: 3 ft length: 188 stddev: 3.7544238403470387\n",
      "\n",
      "distance: 4 ft length: 134 stddev: 1.6825720517886356\n"
     ]
    },
    {
     "ename": "StatisticsError",
     "evalue": "variance requires at least two data points",
     "output_type": "error",
     "traceback": [
      "\u001b[0;31m---------------------------------------------------------------------------\u001b[0m",
      "\u001b[0;31mStatisticsError\u001b[0m                           Traceback (most recent call last)",
      "Cell \u001b[0;32mIn [60], line 2\u001b[0m\n\u001b[1;32m      1\u001b[0m \u001b[39mfor\u001b[39;00m k \u001b[39min\u001b[39;00m bins\u001b[39m.\u001b[39mkeys():\n\u001b[0;32m----> 2\u001b[0m     \u001b[39mprint\u001b[39m(\u001b[39mf\u001b[39m\u001b[39m'\u001b[39m\u001b[39m\\n\u001b[39;00m\u001b[39mdistance: \u001b[39m\u001b[39m{\u001b[39;00mk\u001b[39m+\u001b[39m\u001b[39m1\u001b[39m\u001b[39m}\u001b[39;00m\u001b[39m ft length: \u001b[39m\u001b[39m{\u001b[39;00m\u001b[39mlen\u001b[39m(bins[k])\u001b[39m}\u001b[39;00m\u001b[39m stddev: \u001b[39m\u001b[39m{\u001b[39;00mstdev(bins[k])\u001b[39m}\u001b[39;00m\u001b[39m'\u001b[39m)\n",
      "File \u001b[0;32m~/miniconda3/envs/midas/lib/python3.10/statistics.py:828\u001b[0m, in \u001b[0;36mstdev\u001b[0;34m(data, xbar)\u001b[0m\n\u001b[1;32m    817\u001b[0m \u001b[39m\"\"\"Return the square root of the sample variance.\u001b[39;00m\n\u001b[1;32m    818\u001b[0m \n\u001b[1;32m    819\u001b[0m \u001b[39mSee ``variance`` for arguments and other details.\u001b[39;00m\n\u001b[0;32m   (...)\u001b[0m\n\u001b[1;32m    823\u001b[0m \n\u001b[1;32m    824\u001b[0m \u001b[39m\"\"\"\u001b[39;00m\n\u001b[1;32m    825\u001b[0m \u001b[39m# Fixme: Despite the exact sum of squared deviations, some inaccuracy\u001b[39;00m\n\u001b[1;32m    826\u001b[0m \u001b[39m# remain because there are two rounding steps.  The first occurs in\u001b[39;00m\n\u001b[1;32m    827\u001b[0m \u001b[39m# the _convert() step for variance(), the second occurs in math.sqrt().\u001b[39;00m\n\u001b[0;32m--> 828\u001b[0m var \u001b[39m=\u001b[39m variance(data, xbar)\n\u001b[1;32m    829\u001b[0m \u001b[39mtry\u001b[39;00m:\n\u001b[1;32m    830\u001b[0m     \u001b[39mreturn\u001b[39;00m var\u001b[39m.\u001b[39msqrt()\n",
      "File \u001b[0;32m~/miniconda3/envs/midas/lib/python3.10/statistics.py:767\u001b[0m, in \u001b[0;36mvariance\u001b[0;34m(data, xbar)\u001b[0m\n\u001b[1;32m    765\u001b[0m n \u001b[39m=\u001b[39m \u001b[39mlen\u001b[39m(data)\n\u001b[1;32m    766\u001b[0m \u001b[39mif\u001b[39;00m n \u001b[39m<\u001b[39m \u001b[39m2\u001b[39m:\n\u001b[0;32m--> 767\u001b[0m     \u001b[39mraise\u001b[39;00m StatisticsError(\u001b[39m'\u001b[39m\u001b[39mvariance requires at least two data points\u001b[39m\u001b[39m'\u001b[39m)\n\u001b[1;32m    768\u001b[0m T, ss \u001b[39m=\u001b[39m _ss(data, xbar)\n\u001b[1;32m    769\u001b[0m \u001b[39mreturn\u001b[39;00m _convert(ss \u001b[39m/\u001b[39m (n \u001b[39m-\u001b[39m \u001b[39m1\u001b[39m), T)\n",
      "\u001b[0;31mStatisticsError\u001b[0m: variance requires at least two data points"
     ]
    }
   ],
   "source": [
    "for k in bins.keys():\n",
    "    print(f'\\ndistance: {k+1} ft length: {len(bins[k])} stddev: {stdev(bins[k])}')"
   ]
  },
  {
   "cell_type": "code",
   "execution_count": 57,
   "metadata": {},
   "outputs": [
    {
     "name": "stdout",
     "output_type": "stream",
     "text": [
      "\n",
      "distance: 1 ft length: 114 stddev: 1.4601783759573397\n",
      "\n",
      "distance: 2 ft length: 129 stddev: 3.9868591803612787\n",
      "\n",
      "distance: 3 ft length: 123 stddev: 3.7283822443077725\n",
      "\n",
      "distance: 4 ft length: 29 stddev: 0.19348820307466924\n"
     ]
    },
    {
     "ename": "StatisticsError",
     "evalue": "variance requires at least two data points",
     "output_type": "error",
     "traceback": [
      "\u001b[0;31m---------------------------------------------------------------------------\u001b[0m",
      "\u001b[0;31mStatisticsError\u001b[0m                           Traceback (most recent call last)",
      "Cell \u001b[0;32mIn [57], line 2\u001b[0m\n\u001b[1;32m      1\u001b[0m \u001b[39mfor\u001b[39;00m k \u001b[39min\u001b[39;00m bins\u001b[39m.\u001b[39mkeys():\n\u001b[0;32m----> 2\u001b[0m     \u001b[39mprint\u001b[39m(\u001b[39mf\u001b[39m\u001b[39m'\u001b[39m\u001b[39m\\n\u001b[39;00m\u001b[39mdistance: \u001b[39m\u001b[39m{\u001b[39;00mk\u001b[39m+\u001b[39m\u001b[39m1\u001b[39m\u001b[39m}\u001b[39;00m\u001b[39m ft length: \u001b[39m\u001b[39m{\u001b[39;00m\u001b[39mlen\u001b[39m(bins[k])\u001b[39m}\u001b[39;00m\u001b[39m stddev: \u001b[39m\u001b[39m{\u001b[39;00mstdev(bins[k])\u001b[39m}\u001b[39;00m\u001b[39m'\u001b[39m)\n",
      "File \u001b[0;32m~/miniconda3/envs/midas/lib/python3.10/statistics.py:828\u001b[0m, in \u001b[0;36mstdev\u001b[0;34m(data, xbar)\u001b[0m\n\u001b[1;32m    817\u001b[0m \u001b[39m\"\"\"Return the square root of the sample variance.\u001b[39;00m\n\u001b[1;32m    818\u001b[0m \n\u001b[1;32m    819\u001b[0m \u001b[39mSee ``variance`` for arguments and other details.\u001b[39;00m\n\u001b[0;32m   (...)\u001b[0m\n\u001b[1;32m    823\u001b[0m \n\u001b[1;32m    824\u001b[0m \u001b[39m\"\"\"\u001b[39;00m\n\u001b[1;32m    825\u001b[0m \u001b[39m# Fixme: Despite the exact sum of squared deviations, some inaccuracy\u001b[39;00m\n\u001b[1;32m    826\u001b[0m \u001b[39m# remain because there are two rounding steps.  The first occurs in\u001b[39;00m\n\u001b[1;32m    827\u001b[0m \u001b[39m# the _convert() step for variance(), the second occurs in math.sqrt().\u001b[39;00m\n\u001b[0;32m--> 828\u001b[0m var \u001b[39m=\u001b[39m variance(data, xbar)\n\u001b[1;32m    829\u001b[0m \u001b[39mtry\u001b[39;00m:\n\u001b[1;32m    830\u001b[0m     \u001b[39mreturn\u001b[39;00m var\u001b[39m.\u001b[39msqrt()\n",
      "File \u001b[0;32m~/miniconda3/envs/midas/lib/python3.10/statistics.py:767\u001b[0m, in \u001b[0;36mvariance\u001b[0;34m(data, xbar)\u001b[0m\n\u001b[1;32m    765\u001b[0m n \u001b[39m=\u001b[39m \u001b[39mlen\u001b[39m(data)\n\u001b[1;32m    766\u001b[0m \u001b[39mif\u001b[39;00m n \u001b[39m<\u001b[39m \u001b[39m2\u001b[39m:\n\u001b[0;32m--> 767\u001b[0m     \u001b[39mraise\u001b[39;00m StatisticsError(\u001b[39m'\u001b[39m\u001b[39mvariance requires at least two data points\u001b[39m\u001b[39m'\u001b[39m)\n\u001b[1;32m    768\u001b[0m T, ss \u001b[39m=\u001b[39m _ss(data, xbar)\n\u001b[1;32m    769\u001b[0m \u001b[39mreturn\u001b[39;00m _convert(ss \u001b[39m/\u001b[39m (n \u001b[39m-\u001b[39m \u001b[39m1\u001b[39m), T)\n",
      "\u001b[0;31mStatisticsError\u001b[0m: variance requires at least two data points"
     ]
    }
   ],
   "source": [
    "for k in bins.keys():\n",
    "    print(f'\\ndistance: {k+1} ft length: {len(bins[k])} stddev: {stdev(bins[k])}')"
   ]
  },
  {
   "cell_type": "code",
   "execution_count": 54,
   "metadata": {},
   "outputs": [
    {
     "name": "stdout",
     "output_type": "stream",
     "text": [
      "\n",
      "distance: 1 ft length: 54 stddev: 1.4899723521135864\n",
      "\n",
      "distance: 2 ft length: 57 stddev: 3.787824636409462\n",
      "\n",
      "distance: 3 ft length: 42 stddev: 4.0509956333437955\n",
      "\n",
      "distance: 4 ft length: 78 stddev: 4.045871581807417\n",
      "\n",
      "distance: 5 ft length: 62 stddev: 3.5677088748309234\n",
      "\n",
      "distance: 6 ft length: 88 stddev: 3.644989588290494\n",
      "\n",
      "distance: 7 ft length: 59 stddev: 2.4119131077373592\n",
      "\n",
      "distance: 8 ft length: 66 stddev: 3.1827258405687107\n",
      "\n",
      "distance: 9 ft length: 87 stddev: 4.691095730206309\n",
      "\n",
      "distance: 10 ft length: 55 stddev: 0.0\n",
      "\n",
      "distance: 11 ft length: 37 stddev: 0.0\n"
     ]
    }
   ],
   "source": [
    "for k in bins.keys():\n",
    "    print(f'\\ndistance: {k+1} ft length: {len(bins[k])} stddev: {stdev(bins[k])}')"
   ]
  },
  {
   "cell_type": "code",
   "execution_count": null,
   "metadata": {},
   "outputs": [],
   "source": []
  }
 ],
 "metadata": {
  "kernelspec": {
   "display_name": "Python 3.10.4 ('midas')",
   "language": "python",
   "name": "python3"
  },
  "language_info": {
   "codemirror_mode": {
    "name": "ipython",
    "version": 3
   },
   "file_extension": ".py",
   "mimetype": "text/x-python",
   "name": "python",
   "nbconvert_exporter": "python",
   "pygments_lexer": "ipython3",
   "version": "3.10.4"
  },
  "orig_nbformat": 4,
  "vscode": {
   "interpreter": {
    "hash": "ca6cbc0bf97ccf538602fe3849cb7b011569f21e08d806f6dcfe309349e41163"
   }
  }
 },
 "nbformat": 4,
 "nbformat_minor": 2
}
